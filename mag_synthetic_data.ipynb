{
 "cells": [
  {
   "cell_type": "code",
   "execution_count": 1,
   "id": "df7c57b9",
   "metadata": {},
   "outputs": [],
   "source": [
    "import numpy as np\n",
    "import matplotlib.pyplot as plt\n",
    "import pandas as pd\n",
    "\n",
    "def dyke_equation(x, z, d, theta, K, x0):\n",
    "    term1 = K * (np.sin(theta) * (np.arctan2(x - x0 + d, z) - np.arctan2(x - x0 - d, z)))\n",
    "    term2 = (np.cos(theta) / 2) * (np.log(((x - x0 + d) ** 2 + z ** 2) / ((x - x0 - d) ** 2 + z ** 2)))\n",
    "    return term1 - term2\n",
    "\n",
    "z_values = np.linspace(20,70,100)  # Depth values\n",
    "d_values = 10 #np.linspace(5, 20, 20)    # half Width values\n",
    "theta_values = np.pi/4 # np.linspace(0, np.pi/2, 20)  # Inclination values\n",
    "K =np.linspace(200,400,100)  \n",
    "x0 =4 # np.linspace(0, 8, 50)   # x0 values\n",
    "amp=[]\n",
    "mean=[]\n",
    "std=[]\n",
    "x_values = np.linspace(-40, 40, 900)\n",
    "magnetic_anomalies_matrix = np.zeros((100, 900))\n",
    "\n",
    "\n",
    "for i in range(len(z_values)):\n",
    "        d = d_values\n",
    "        theta_values = np.pi/6\n",
    "        magnetic_anomalies = []\n",
    "        for x in x_values:\n",
    "            magnetic_anomalies.append(dyke_equation(x, z_values[i], d, theta_values, K[i], x0))\n",
    "        magnetic_anomalies_matrix[i] = magnetic_anomalies\n",
    "        amp.append(max(magnetic_anomalies_matrix[i,:]))\n",
    "        mean.append(np.mean(magnetic_anomalies_matrix[i,:]))\n",
    "        std.append(np.std(magnetic_anomalies_matrix[i,:]))\n",
    "        \n",
    "df_std = pd.DataFrame({'std':std})\n",
    "df_mean = pd.DataFrame({'mean':mean })\n",
    "df_amp = pd.DataFrame({'amp':amp })\n",
    "\n",
    "\n",
    "df_depth = pd.DataFrame({'Depth': z_values})\n",
    "df_k = pd.DataFrame({'K': K})\n",
    "\n",
    "\n",
    "df_combined = pd.concat([df_depth, df_k,df_amp,df_mean,df_std], axis=1)\n",
    "\n",
    "\n",
    "derivatives = abs(np.gradient(magnetic_anomalies_matrix, axis=1))\n",
    "\n",
    "deriv_sum = derivatives.sum(axis=1)\n",
    "\n",
    "\n",
    "df_combined['sum_slope'] = deriv_sum\n",
    "\n",
    "\n",
    "df_combined.to_excel('test1.xlsx', sheet_name='sheet1', index=False)\n"
   ]
  },
  {
   "cell_type": "code",
   "execution_count": null,
   "id": "d65c7293",
   "metadata": {},
   "outputs": [],
   "source": []
  }
 ],
 "metadata": {
  "kernelspec": {
   "display_name": "Python 3 (ipykernel)",
   "language": "python",
   "name": "python3"
  },
  "language_info": {
   "codemirror_mode": {
    "name": "ipython",
    "version": 3
   },
   "file_extension": ".py",
   "mimetype": "text/x-python",
   "name": "python",
   "nbconvert_exporter": "python",
   "pygments_lexer": "ipython3",
   "version": "3.9.18"
  }
 },
 "nbformat": 4,
 "nbformat_minor": 5
}
